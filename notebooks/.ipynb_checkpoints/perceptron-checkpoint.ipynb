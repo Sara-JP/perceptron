{
 "cells": [
  {
   "cell_type": "markdown",
   "id": "d333515a",
   "metadata": {},
   "source": [
    "<h1 align=center style=\"line-height:200%;font-family:vazir;color:#0099cc\">\n",
    "<font face=\"vazir\" color=\"#0099cc\">\n",
    "پرسپترون\n",
    "</font>\n",
    "</h1>"
   ]
  },
  {
   "cell_type": "markdown",
   "id": "6ed20bff",
   "metadata": {},
   "source": [
    "<h2 align=right style=\"line-height:200%;font-family:vazir;color:#0099cc\">\n",
    "<font face=\"vazir\" color=\"#0099cc\">\n",
    "مقدمه و صورت مسئله\n",
    "</font>\n",
    "</h2>\n",
    "\n",
    "<p dir=rtl style=\"direction: rtl; text-align: justify; line-height:200%; font-family:vazir; font-size:medium\">\n",
    "<font face=\"vazir\" size=3>\n",
    "    به یک تمرین اساسی از پایه‌ای‌ترین مباحث شبکه‌های عصبی خوش آمدید! در این تمرین رویکرد متفاوتی را در پیش خواهیم گرفت و قصد داریم ساختار پرسپترون و الگوریتم آموزش آن را که در درسنامه‌های پیشین آموختید مستقیماً پیاده‌سازی کنیم. کدنویسی در این سطح به شما کمک خواهد کرد که به شکل عملی درک عمیق‌تری از نحوه‌ی کار این مدل پیدا کنید و در آینده نیز هنگام مواجه با مدل‌های مختلف شبکه‌های عصبی قادر به تحلیل آسان‌تر ساختار آن‌ها باشید. پس از طراحی پرسپترون، آن را روی مجموعه‌داده‌ی مشهور <i>گل‌های زنبق (iris)</i> آموزش داده و عملکرد دو روش مختلف آموزش پرسپترون، یعنی قاعده‌ی پرسپترون و قاعده‌ی دلتا را بر روی این مجموعه‌داده ارزیابی خواهیم کرد.\n",
    "</font>\n",
    "</p>"
   ]
  },
  {
   "cell_type": "markdown",
   "id": "c5af1784",
   "metadata": {},
   "source": [
    "<h2 align=right style=\"line-height:200%;font-family:vazir;color:#0099cc\">\n",
    "<font face=\"vazir\" color=\"#0099cc\">\n",
    "وارد کردن کتابخانه‌های مورد نیاز\n",
    "</font>\n",
    "</h2>\n",
    "\n",
    "<p dir=rtl style=\"direction: rtl; text-align: justify; line-height:200%; font-family:vazir; font-size:medium\">\n",
    "<font face=\"vazir\" size=3>\n",
    "    ابتدا کتابخانه‌های مورد نیازتان را وارد کنید.\n",
    "</font>\n",
    "</p>"
   ]
  },
  {
   "cell_type": "code",
   "execution_count": 1,
   "id": "99450f9e",
   "metadata": {},
   "outputs": [],
   "source": [
    "import json\n",
    "import numpy as np\n",
    "import pandas as pd\n",
    "from sklearn.metrics import accuracy_score\n",
    "from inspect import getsource"
   ]
  },
  {
   "cell_type": "markdown",
   "id": "72faaed8",
   "metadata": {},
   "source": [
    "<h2 align=right style=\"line-height:200%;font-family:vazir;color:#0099cc\">\n",
    "<font face=\"vazir\" color=\"#0099cc\">\n",
    "معرفی مجموعه‌داده\n",
    "</font>\n",
    "</h2>\n",
    "\n",
    "<p dir=rtl style=\"direction: rtl; text-align: justify; line-height:200%; font-family:vazir; font-size:medium\">\n",
    "<font face=\"vazir\" size=3>\n",
    "در این تمرین از مجموعه‌‌داده‌ی ساده اما مشهور گل‌های زنبق (iris) استفاده خواهیم کرد. این مجموعه‌داده شامل سه دسته (نوع گیاه) است که از هر دسته 50 نمونه داده وجود دارد. هر داده دارای یک برچسب و چهار ویژگی است که در جدول زیر معرفی شده‌اند.\n",
    "</font>\n",
    "</p>\n",
    "\n",
    "<center>\n",
    "<div dir=rtl style=\"direction: rtl;line-height:200%;font-family:vazir;font-size:medium\">\n",
    "<font face=\"vazir\" size=3>\n",
    "    \n",
    "|ستون|توضیحات|\n",
    "|:------:|:---:|\n",
    "|SepalLengthCm|طول کاسبرگ (سانتی‌متر)|\n",
    "|SepalWidthCm|عرض کاسبرگ (سانتی‌متر)|\n",
    "|PetalLengthCm|طول گلبرگ (سانتی‌متر)|\n",
    "|PetalWidthCm|عرض گلبرگ (سانتی‌متر)|\n",
    "|Species|نوع گیاه (متغیر هدف)|\n",
    "\n",
    "</font>\n",
    "</div>\n",
    "</center>"
   ]
  },
  {
   "cell_type": "markdown",
   "id": "e99bbe9b",
   "metadata": {},
   "source": [
    "<h2 align=right style=\"line-height:200%;font-family:vazir;color:#0099cc\">\n",
    "<font face=\"vazir\" color=\"#0099cc\">\n",
    "خواندن مجموعه داده\n",
    "</font>\n",
    "</h2>\n",
    "\n",
    "<p dir=rtl style=\"direction: rtl; text-align: justify; line-height:200%; font-family:vazir; font-size:medium\">\n",
    "<font face=\"vazir\" size=3>\n",
    "    در ابتدا نیاز است فایل‌ مجموعه‌داده را بخوانید. برای این تمرین مجموعه‌ی آزمونی در نظر گرفته نشده و هدف تنها پیاده‌سازی و تحلیل مدل است. بنابراین کل مجموعه‌داده را می‌توانید از فایل <code>iris.csv</code> موجود در پوشه‌ی مسئله خوانده و از نمونه‌های موجود در آن برای آموزش پرسپترون استفاده کنید. توجه داشته باشید که نیازی به ستون <code>Id</code> ندارید و می‌توانید آن را از دیتافریم خود حذف کنید.\n",
    "</font>\n",
    "</p>"
   ]
  },
  {
   "cell_type": "code",
   "execution_count": null,
   "id": "7dcb9e87",
   "metadata": {},
   "outputs": [],
   "source": [
    "train_data = None # To-Do"
   ]
  },
  {
   "cell_type": "code",
   "execution_count": null,
   "id": "1617a7d7",
   "metadata": {},
   "outputs": [],
   "source": [
    "train_data['Species'].unique()"
   ]
  },
  {
   "cell_type": "markdown",
   "id": "23daec54",
   "metadata": {},
   "source": [
    "<h2 align=right style=\"line-height:200%;font-family:vazir;color:#0099cc\">\n",
    "<font face=\"vazir\" color=\"#0099cc\">\n",
    "پیش‌پردازش و مهندسی ویژگی\n",
    "</font>\n",
    "</h2>\n",
    "\n",
    "<p dir=rtl style=\"direction: rtl; text-align: justify; line-height:200%; font-family:vazir; font-size:medium\">\n",
    "<font face=\"vazir\" size=3>\n",
    "    اگر به مقادیر ستون <code>Species</code> نگاه کرده باشید، دریافته‌اید که این مجموعه‌داده دارای سه کلاس <code>Iris-setosa</code> ،<code>Iris-versicolor</code> و <code>Iris-virginica</code> است.\n",
    "    <br>\n",
    "    از آنجا که یک پرسپترون واحد قادر به دسته‌بندی دوکلاسه هست در این تمرین قصد داریم سه مدل مختلف را آموزش دهیم که هرکدام از آن‌ها بین یک ترکیب دوتایی از سه دسته ممکن تصمیم‌گیری می‌کند. یعنی قرار است تا سه پرسپترون را به شکل زیر آموزش دهیم:\n",
    "</font>\n",
    "</p>\n",
    "<ul dir=rtl style=\"direction: rtl; text-align: justify; line-height:200%; font-family:vazir; font-size:medium\">\n",
    "<font face=\"vazir\" size=3>\n",
    "    <li>تصمیم‌گیری بین دو دسته‌ی <code>Iris-setosa</code> و <code>Iris-versicolor</code></li>\n",
    "    <li>تصمیم‌گیری بین دو دسته‌ی <code>Iris-setosa</code> و <code>Iris-virginica</code></li>\n",
    "    <li>تصمیم‌گیری بین دو دسته‌ی <code>Iris-versicolor</code> و <code>Iris-virginica</code></li>\n",
    "</font>\n",
    "</ul>\n",
    "<p dir=rtl style=\"direction: rtl; text-align: justify; line-height:200%; font-family:vazir; font-size:medium\">\n",
    "<font face=\"vazir\" size=3>\n",
    "    این امر همچنین به ما کمک می‌کند تا به‌صورت تجربی کشف کنیم که کدام دسته از سایر دسته‌ها به‌صورت خطی تفکیک‌پذیر است.\n",
    "</font>\n",
    "<p dir=rtl style=\"direction: rtl; text-align: justify; line-height:200%; font-family:vazir; font-size:medium\">\n",
    "<font face=\"vazir\" size=3>\n",
    "    بنابراین از شما خواسته می‌شود که دیتافریم اصلی را به سه دیتافریم کوچک‌تر (با نام‌های <code>df2</code> ،<code>df1</code> و <code>df3</code>) تقسیم کنید، به شکلی که در هر دیتافریم تنها نمونه‌های مربوط به یکی از حالت‌های لیست بالا وجود داشته باشد. به عنوان مثال در دیتافریم نخست یعنی <code>df1</code> تنها نمونه‌های حالت اول یعنی دسته‌های <code>Iris-setosa</code> و <code>Iris-versicolor</code> وجود داشته باشد.\n",
    "</font>"
   ]
  },
  {
   "cell_type": "code",
   "execution_count": null,
   "id": "f7c23000",
   "metadata": {},
   "outputs": [],
   "source": [
    "df1 = None # To-Do\n",
    "\n",
    "df2 = None # To-Do\n",
    "\n",
    "df3 = None # To-Do"
   ]
  },
  {
   "cell_type": "markdown",
   "id": "9d0927d1",
   "metadata": {},
   "source": [
    "<p dir=rtl style=\"direction: rtl; text-align: justify; line-height:200%; font-family:vazir; font-size:medium\">\n",
    "<font face=\"vazir\" size=3>\n",
    "کد زیر دیتافریم‌های شما را ذخیره می‌کند تا در انتهای نت‌بوک به فایل جواب شما اضافه شود. سه دیتافریم بالا از نظر تعداد نمونه، ستون‌ها و مقادیر موجود در ستون <code>Species</code> داوری خواهند شد. نیازی به تغییر کد نیست و کافیست تنها سلول را اجرا نمایید.\n",
    "</font>"
   ]
  },
  {
   "cell_type": "code",
   "execution_count": null,
   "id": "704751ee",
   "metadata": {},
   "outputs": [],
   "source": [
    "df1.to_csv('df1.csv', index=False)\n",
    "df2.to_csv('df2.csv', index=False)\n",
    "df3.to_csv('df3.csv', index=False)"
   ]
  },
  {
   "cell_type": "markdown",
   "id": "0923ecf5",
   "metadata": {},
   "source": [
    "<p dir=rtl style=\"direction: rtl; text-align: justify; line-height:200%; font-family:vazir; font-size:medium\">\n",
    "<font face=\"vazir\" size=3>\n",
    "    اکنون اگر قصد دارید می‌توانید پیش‌پردازش‌های دلخواه خود را بر روی مقادیر ویژگی‌ها انجام دهید. همچنین توجه داشته باشید مقادیر ستون برچسب را باید به شکل اعداد <code dir=ltr>+1</code> و <code dir=ltr>-1</code> کدگذاری کنید. علاوه بر این فراموش نکنید که ستون‌های ویژگی را از ستون متغیر هدف (برچسب) جدا کنید.\n",
    "</font>"
   ]
  },
  {
   "cell_type": "code",
   "execution_count": null,
   "id": "f493320e",
   "metadata": {},
   "outputs": [],
   "source": [
    "# To-Do"
   ]
  },
  {
   "cell_type": "markdown",
   "id": "f99f2c94",
   "metadata": {},
   "source": [
    "<h2 align=right style=\"line-height:200%;font-family:vazir;color:#0099cc\">\n",
    "<font face=\"vazir\" color=\"#0099cc\">\n",
    "مدل‌سازی\n",
    "</font>\n",
    "</h2>\n",
    "\n",
    "<p dir=rtl style=\"direction: rtl; text-align: justify; line-height:200%; font-family:vazir; font-size:medium\">\n",
    "<font face=\"vazir\" size=3>\n",
    "    اکنون که داده‌ها را پردازش و آماده کردید نوبت به قسمت اصلی یعنی مدل می‌رسد. همانطور که در ابتدا ذکر کردیم در این تمرین دیگر خبری از کتابخانه‌ی آماده‌ی <code>scikit-learn</code> نیست. در اینجا از شما خواسته شده تا یک مدل ساده‌ی پرسپترون را به دو حالت (قاعده‌ی پرسپترون و قاعده‌ی دلتا) از صفر پیاده کنید. برای این کار قدم به قدم هر جزء این مدل را شرح خواهیم داد تا نسبت به پیاده‌‌سازی آن اقدام کنید.\n",
    "    <br>\n",
    "    <b>نکته: </b>\n",
    "    در اعمال ریاضی و محاسباتی خود تنها از کتابخانه‌ی نامپای استفاده کنید و لیست‌های خود را نیز به شکل آرایه‌ی نامپای تعریف کنید.\n",
    "    <br>\n",
    "</font>\n",
    "</p>\n"
   ]
  },
  {
   "cell_type": "markdown",
   "id": "23321043",
   "metadata": {},
   "source": [
    "<h3 align=right style=\"line-height:200%;font-family:vazir;color:#0099cc\">\n",
    "<font face=\"vazir\" color=\"#0099cc\">\n",
    "قاعده‌ی پرسپترون\n",
    "</font>\n",
    "</h3>\n",
    "<center>\n",
    "    <img src=\"perceptron_rule.png\">\n",
    "<center>\n",
    "<p dir=rtl style=\"direction: rtl; text-align: justify; line-height:200%; font-family:vazir; font-size:medium\">\n",
    "<font face=\"vazir\">\n",
    "    به منظور پیاده‌سازی مدل،‌ کلاسی با نام <code>Perceptron</code> تعریف خواهیم کرد که در هنگام ساخته شدن (<code>__init__</code>) یک ویژگی مرتبط با وزن‌ها را با نام <code>weights</code> به این کلاس اضافه می‌کند. بنابراین در هنگام پیاده‌سازی توابع جهت دسترسی به وزن‌های پرسپترون می‌توانید از <code>self.weights</code> استفاده کنید.\n",
    "    <br>\n",
    "    اکنون هرکدام از توابع مورد نیاز این کلاس را شرح خواهیم داد تا شما به پیاده‌سازی آن‌ها بپردازید:\n",
    "    <br>\n",
    "    <ul dir=rtl style=\"direction: rtl; text-align: justify; line-height:200%; font-family:vazir; font-size:medium\">\n",
    "        <li>\n",
    "        تابع <code>weighting</code> مقادیر ویژگی‌های یک نمونه را گرفته و آن را در بردار وزن ضرب نقطه‌ای می‌کند. سپس ورودی وزن‌دار شده به عنوان خروجی برگردانده می‌شود.\n",
    "        </li>\n",
    "        <li>\n",
    "        در تابعی به نام <code>activation</code> تابع فعال‌ساز را که در اینجا تابع علامت است پیاده خواهیم کرد. این تابع، ورودی وزن‌دار را گرفته و در صورتیکه حاصل بیشتر یا مساوی صفر بود خروجی <code>1</code> و در غیر این‌صورت خروجی <code dir=ltr>-1</code> تولید می‌کند.\n",
    "        </li>\n",
    "        <li>\n",
    "        تابع <code>predict</code> آرایه‌ای از نمونه‌ها را گرفته و آرایه‌ای شامل برچسب پیش‌بینی‌شده برای هرکدام از نمونه‌ها را بر می‌گرداند. در این تابع باید به ازای هر نمونه ابتدا آن را به کمک تابع <code>weighting</code> وزن دار کنید و حاصل را به تابع <code>activation</code> بدهید تا برچسب <code dir=ltr>+1</code> یا <code dir=ltr>-1</code> را برای نمونه تولید کند.\n",
    "        </li>\n",
    "        <li>\n",
    "        الگوریتم اصلی پرسپترون در واقع در تابع <code>fit</code> پیاده می‌شود. این تابع ورودی‌ها و هایپرپارامترهای زیر را گرفته و سپس طبق مراحلی که شرح خواهیم داد شروع به آموزش [وزن‌های] پرسپترون می‌کند.\n",
    "        </li>\n",
    "    </ul>\n",
    "</font>\n",
    "</p>\n",
    "\n",
    "<center>\n",
    "<div dir=rtl style=\"direction: rtl;line-height:200%;font-family:vazir;font-size:medium\">\n",
    "<font face=\"vazir\" size=3>\n",
    "    \n",
    "|ورودی|توضیحات|\n",
    "|:------:|:---:|\n",
    "|inputs|ویژگی‌های ورودی نمونه‌های آموزشی|\n",
    "|outputs|متغیر هدف (برچسب) نمونه‌‌های آموزشی|\n",
    "|learning_rate|نرخ یادگیری (η)|\n",
    "|epochs|تعداد دفعات آموزش بر روی تمام نمونه‌ها|\n",
    "\n",
    "</font>\n",
    "</div>\n",
    "</center>\n",
    "\n",
    "<p dir=rtl style=\"direction: rtl; text-align: justify; line-height:200%; font-family:vazir; font-size:medium; padding-right:40px;\">\n",
    "<font face=\"vazir\">\n",
    "در درسنامه‌ی پرسپترون اشاره کردیم که عبارت بایاس را می‌توان به کمک اضافه کردن یک ورودی ثابت <code>1</code> به ویژگی‌های ورودی تعبیه کرد. بنابراین در تابع <code>fit</code> ابتدا به اول ویژگی‌های هرکدام از نمونه‌ها عدد <code>1</code> را اضافه کنید (به عنوان مثال برای نمونه‌ی <code>inputs[i]</code>، باید <code>inputs[i][0]</code> برابر <code>1</code> باشد). با این کار یک واحد به طول بردار ویژگی نمونه‌ها اضافه خواهد شد. (فراموش نکنید که این کار را در هنگام پیش‌بینی یعنی تابع predict نیز باید انجام دهید.)\n",
    "<br>\n",
    "پس از آن نیاز است تا بردار وزن یعنی <code>self.weights</code> را ساخته و مقداردهی کنید. برای مقداردهی اولیه می‌توانید از اعداد تصادفی بین <code dir=ltr>0</code> تا <code dir=ltr>1</code> استفاده کنید.\n",
    "<br>\n",
    "سپس در یک حلقه به ازای هر دور (به تعداد <code>epochs</code>) باید یک‌بار کل مجموعه‌ی آموزشی را بررسی کنید. بنابراین در داخل این حلقه، یک حلقه‌ی دیگر خواهید داشت که هربار یکی از نمونه‌ها را بررسی می‌کند (به دلیل استفاده از روش کاهش گرادیان تصادفی در هر تکرار تنها یک نمونه بررسی و وزن‌ها آپدیت می‌شوند).\n",
    "<br>\n",
    "به ازای هر نمونه، ابتدا به کمک تابع <code>weighting</code> بردار ویژگی آن را در بردار وزن ضرب نقطه‌ای می‌کنیم تا ورودی وزن‌دار به دست آید. سپس حاصل به‌دست‌آمده را به تابع فعال‌سازی می‌دهیم تا مقدار خروجی مدل را تولید کند. حال با تفریق پیش‌بینی مدل از مقدار (برچسب) واقعی می‌توانیم اختلاف‌شان را به دست آوریم. سپس طبق فرمول‌های معرفی‌شده در درسنامه، با ضرب این اختلاف در نرخ یادگیری و ویژگی‌های ورودی و سپس جمع آن با مقادیر قبلی بردار وزن می‌توانیم به آپدیت بردار وزن بپردازیم.\n",
    "<br>\n",
    "پیشنهاد می‌شود در آخر هر دور نسبت به چاپ دقت مدل کنونی بر روی مجموعه‌ی آموزشی نیز اقدام کنید. برای این کار کافیست نمونه‌ها را به تابع <code>predict</code> بدهید تا پیش‌بینی مدل تولید شود و سپس به کمک تابع آماده‌ی <code>accuracy_score</code> دقت آن را به دست آورید.\n",
    "<br>\n",
    "<b>نکته: </b>\n",
    "در هیچ‌کدام از توابع خود به غیر از تابع <code>fit</code> چیزی را چاپ (<code>print</code>) نکنید، در غیر این‌صورت سیستم داوری قادر به امتیازدهی به توابع شما نخواهد بود.\n",
    "</font>\n",
    "</p>"
   ]
  },
  {
   "cell_type": "code",
   "execution_count": null,
   "id": "231cd2b5",
   "metadata": {},
   "outputs": [],
   "source": [
    "class Perceptron:\n",
    "\n",
    "    def __init__(self):\n",
    "        self.weights = None\n",
    "\n",
    "    def weighting(self, input):\n",
    "        return None # To-Do\n",
    "\n",
    "    def activation(self, weighted_input):\n",
    "        return None # To-Do\n",
    "\n",
    "    def predict(self, inputs):\n",
    "        return None # To-Do\n",
    "\n",
    "    def fit(self, inputs, outputs, learning_rate, epochs):\n",
    "        pass # To-Do"
   ]
  },
  {
   "cell_type": "markdown",
   "id": "c5a46903",
   "metadata": {},
   "source": [
    "<h4 align=right style=\"line-height:200%;font-family:vazir;color:#0099cc\">\n",
    "<font face=\"vazir\" color=\"#0099cc\">\n",
    "آموزش مدل\n",
    "</font>\n",
    "</h4>\n",
    "\n",
    "<p dir=rtl style=\"direction: rtl; text-align: justify; line-height:200%; font-family:vazir; font-size:medium\">\n",
    "<font face=\"vazir\">\n",
    "    پس از طراحی ساختار پرسپترون می‌توانید به کمک <code dir=ltr>Perceptron()</code> ابتدا یک نمونه از این کلاس بسازید و سپس تابع <code>fit</code> را با آرگومان‌های مناسب صدا بزنید تا آموزش مدل آغاز شود. این کار را برای هر سه حالت ورودی انجام دهید. پیشنهاد می‌شود مقادیر مختلف نرخ یادگیری مانند 0.1، 0.01، 0.001 و... را آزمایش و مقایسه کنید.\n",
    "</font>\n",
    "</p>\n"
   ]
  },
  {
   "cell_type": "code",
   "execution_count": null,
   "id": "d4f7297d",
   "metadata": {},
   "outputs": [],
   "source": [
    "perceptron = Perceptron()\n",
    "perceptron.fit(None) # To-Do"
   ]
  },
  {
   "cell_type": "code",
   "execution_count": null,
   "id": "e48be138",
   "metadata": {},
   "outputs": [],
   "source": [
    "perceptron = Perceptron()\n",
    "perceptron.fit(None) # To-Do"
   ]
  },
  {
   "cell_type": "code",
   "execution_count": null,
   "id": "3e1c9f67",
   "metadata": {},
   "outputs": [],
   "source": [
    "perceptron = Perceptron()\n",
    "perceptron.fit(None) # To-Do"
   ]
  },
  {
   "cell_type": "markdown",
   "id": "70d87e34",
   "metadata": {},
   "source": [
    "<h4 align=right style=\"line-height:200%;font-family:vazir;color:#0099cc\">\n",
    "<font face=\"vazir\" color=\"#0099cc\">\n",
    "🤔\n",
    "پرسش\n",
    "</font>\n",
    "</h4>\n",
    "\n",
    "<p dir=rtl style=\"direction: rtl; text-align: justify; line-height:200%; font-family:vazir; font-size:medium\">\n",
    "<font face=\"vazir\">\n",
    "    از میان سه حالت مختلفی که برای کلاس‌های مجموعه‌داده در نظر گرفتیم، یک یا چند حالت به‌صورت خطی تفکیک‌پذیر هستند. تفکیک‌پذیر خطی بودن آن‌ها را می‌توان طبق دقت به‌دست‌آمده توسط مدل نتیجه‌گیری کرد. طبق نتایج به‌دست‌آمده در اجرای خود فکر می‌کنید کدام حالت یا حالت‌ها به‌صورت خطی تفکیک‌پذیر هستند؟ پاسخ را در متغیر <code>linearly_separable</code> به شکل یک لیست وارد کنید. به عنوان مثال اگر پاسخ شما حالت اول یعنی کلاس‌های <code>Iris-setosa</code> و <code>Iris-versicolor</code> است آنگاه <code>linearly_separable</code> را به‌صورت <code>[1]</code> و اگر پاسخ شما مثلاً حالت دوم و سوم است آن را به شکل <code dir=ltr>[2, 3]</code> مقداردهی کنید.\n",
    "</font>\n",
    "</p>\n"
   ]
  },
  {
   "cell_type": "code",
   "execution_count": null,
   "id": "f9c9053d",
   "metadata": {},
   "outputs": [],
   "source": [
    "linearly_separable = []"
   ]
  },
  {
   "cell_type": "markdown",
   "id": "8b86c670",
   "metadata": {},
   "source": [
    "<h3 align=right style=\"line-height:200%;font-family:vazir;color:#0099cc\">\n",
    "<font face=\"vazir\" color=\"#0099cc\">\n",
    "قاعده‌ی دلتا\n",
    "</font>\n",
    "</h3>\n",
    "<center>\n",
    "<img src=\"delta_rule.png\">\n",
    "</center>\n",
    "<p dir=rtl style=\"direction: rtl; text-align: justify; line-height:200%; font-family:vazir; font-size:medium\">\n",
    "    در این حالت می‌خواهیم کلاسی با نام <code>Adaline</code> بسازیم و  مدل را با قاعده‌ی دلتا آموزش دهیم. در اینجا از روش نزول گرادیان استفاده خواهیم کرد، یعنی تمام نمونه‌های آموزشی به‌صورت همزمان بر روی آپدیت وزن تاثیر می‌گذارند (برخلاف روش نزول گرادیان تصادفی که هربار یک نمونه دیده می‌شد). کد این مدل بسیار شبیه به حالت قبلی خواهد بود و تنها نیاز است چند مورد جزئی زیر را اعمال کنید:\n",
    "    <br>\n",
    "    <ul dir=rtl style=\"direction: rtl; text-align: justify; line-height:200%; font-family:vazir; font-size:medium\">\n",
    "        <li>\n",
    "        از آنجا که در این حالت از تابع فعال‌سازی خطی استفاده می‌شود تابع <code>activation</code> تنها همان ورودی وزن‌دار خود را بدون هیچ‌گونه تغییری خروجی می‌دهد.\n",
    "        </li>\n",
    "        <li>\n",
    "        در تابع <code>prediction</code> پس از وزن‌دار کردن و عبور از تابع فعال‌سازی، باید بررسی کنید که اگر حاصل بزرگتر یا مساوی صفر بود، مقدار پیش‌بینی <code dir=ltr>+1</code> و در غیر این‌صورت <code dir=ltr>-1</code> شود.\n",
    "        </li>\n",
    "        <li>\n",
    "        پیشنهاد می‌شود به جای اینکه یک حلقه بنویسید که خطای هر نمونه را محاسبه کند و در آخر از مجموع آن جهت آپدیت وزن استفاده کنید، همین کار را به‌صورت برداری انجام دهید (با ضرب نقطه‌ای ترانهاده‌ی ماتریس ورودی در بردار وزن).\n",
    "        </li>\n",
    "    </ul>\n",
    "</font>\n",
    "</p>"
   ]
  },
  {
   "cell_type": "code",
   "execution_count": null,
   "id": "c7961eff",
   "metadata": {},
   "outputs": [],
   "source": [
    "class Adaline:\n",
    "\n",
    "    def __init__(self):\n",
    "        self.weights = None\n",
    "\n",
    "    def weighting(self, input):\n",
    "        return None # To-Do\n",
    "\n",
    "    def activation(self, weighted_input):\n",
    "        return None # To-Do\n",
    "\n",
    "    def predict(self, inputs):\n",
    "        return None # To-Do\n",
    "\n",
    "    def fit(self, inputs, outputs, learning_rate=0.1, epochs=64):\n",
    "        pass # To-Do"
   ]
  },
  {
   "cell_type": "markdown",
   "id": "25901f4f",
   "metadata": {},
   "source": [
    "<h4 align=right style=\"line-height:200%;font-family:vazir;color:#0099cc\">\n",
    "<font face=\"vazir\" color=\"#0099cc\">\n",
    "آموزش مدل\n",
    "</font>\n",
    "</h4>\n",
    "\n",
    "<p dir=rtl style=\"direction: rtl; text-align: justify; line-height:200%; font-family:vazir; font-size:medium\">\n",
    "<font face=\"vazir\">\n",
    "    پس از طراحی ساختار پرسپترون می‌توانید به کمک <code dir=ltr>Adaline()</code> ابتدا یک نمونه از این کلاس بسازید و سپس تابع <code>fit</code> را با آرگومان‌های مناسب صدا بزنید تا آموزش مدل آغاز شود. این کار را برای هر سه حالت ورودی انجام دهید. پیشنهاد می‌شود مقادیر مختلف نرخ یادگیری مانند 0.1، 0.01، 0.001 و... را آزمایش و مقایسه کنید.\n",
    "</font>\n",
    "</p>\n"
   ]
  },
  {
   "cell_type": "code",
   "execution_count": null,
   "id": "008fcefd",
   "metadata": {},
   "outputs": [],
   "source": [
    "adaline = Adaline()\n",
    "adaline.fit(None) # To-Do"
   ]
  },
  {
   "cell_type": "code",
   "execution_count": null,
   "id": "75920d3c",
   "metadata": {},
   "outputs": [],
   "source": [
    "adaline = Adaline()\n",
    "adaline.fit(None) # To-Do"
   ]
  },
  {
   "cell_type": "code",
   "execution_count": null,
   "id": "598042ae",
   "metadata": {},
   "outputs": [],
   "source": [
    "adaline = Adaline()\n",
    "adaline.fit(None) # To-Do"
   ]
  },
  {
   "cell_type": "markdown",
   "id": "08def517",
   "metadata": {},
   "source": [
    "<h4 align=right style=\"line-height:200%;font-family:vazir;color:#0099cc\">\n",
    "<font face=\"vazir\" color=\"#0099cc\">\n",
    "💭\n",
    "تفکر\n",
    "</font>\n",
    "</h4>\n",
    "\n",
    "<p dir=rtl style=\"direction: rtl; text-align: justify; line-height:200%; font-family:vazir; font-size:medium\">\n",
    "<font face=\"vazir\">\n",
    "    مقایسه‌ی عملکرد دو مدل <code>Perceptron</code> و <code>Adaline</code> در حالتی که مجموعه‌داده به شکل خطی تفکیک‌پذیر نباشد می‌تواند به شکل عملی تفاوت میان این دو مدل را برای‌تان شفاف سازد.\n",
    "</font>\n",
    "</p>\n"
   ]
  },
  {
   "cell_type": "markdown",
   "id": "db09c5f3",
   "metadata": {},
   "source": [
    "<h2 align=right style=\"line-height:200%;font-family:vazir;color:#0099cc\">\n",
    "<font face=\"vazir\" color=\"#0099cc\">\n",
    "<b>داوری</b>\n",
    "</font>\n",
    "</h2>\n",
    "\n",
    "<p dir=rtl style=\"direction: rtl; text-align: justify; line-height:200%; font-family:vazir; font-size:medium\">\n",
    "<font face=\"vazir\" size=3>\n",
    "در این تمرین هرکدام از توابعی که پیاده کرده‌اید به‌صورت جداگانه مورد داوری قرار خواهد گرفت تا از عملکرد هرکدام به شکل جداگانه مطمئن شوید. البته تابع <code>fit</code> هر کلاس به منزله‌ی عملکرد کلی مدل است و جهت ارزیابی، مدل شما بر روی یک حالت تفکیک‌پذیر خطی از مجموعه‌داده iris آموزش خواهد دید و انتظار می‌رود که بتواند دقت تقریبی ۱۰۰ درصد را بر روی مجموعه‌ی آموزشی به دست آورد. علاوه بر این دیتافریم‌های اولیه و پاسخ شما به پرسش مطرح‌شده درباره‌ی تفکیک‌پذیری خطی نیز امتیازدهی خواهد شد.\n",
    "</font>\n",
    "</p>"
   ]
  },
  {
   "cell_type": "markdown",
   "id": "0a77e7cd",
   "metadata": {},
   "source": [
    "<h2 align=right style=\"line-height:200%;font-family:vazir;color:#0099cc\">\n",
    "<font face=\"vazir\" color=\"#0099cc\">\n",
    "<b>سلول جواب‌ساز</b>\n",
    "</font>\n",
    "</h2>\n",
    "\n",
    "<p dir=rtl style=\"direction: rtl; text-align: justify; line-height:200%; font-family:vazir; font-size:medium\">\n",
    "<font face=\"vazir\" size=3>\n",
    "    سلول‌های زیر را به منظور ساخت فایل‌های کلاس‌های پیاده‌سازی شده و پاسخ خود به پرسش مطرح شده اجرا نمایید.\n",
    "</font>\n",
    "</p>"
   ]
  },
  {
   "cell_type": "code",
   "execution_count": null,
   "id": "9e847dc0",
   "metadata": {},
   "outputs": [],
   "source": [
    "with open(\"linearly_separable.json\", \"w\") as f:\n",
    "    json.dump(linearly_separable, f)\n",
    "f.close()"
   ]
  },
  {
   "cell_type": "code",
   "execution_count": null,
   "id": "e18c2ed1",
   "metadata": {},
   "outputs": [],
   "source": [
    "inspect_perceptron = Perceptron()\n",
    "with open(\"Perceptron.py\", \"w\") as f:\n",
    "    f.write('import numpy as np\\n')\n",
    "    f.write('from sklearn.metrics import accuracy_score\\n')\n",
    "    f.write('class Perceptron:\\n')\n",
    "    f.write(getsource(inspect_perceptron.__init__)+'\\n')\n",
    "    f.write(getsource(inspect_perceptron.weighting)+'\\n')\n",
    "    f.write(getsource(inspect_perceptron.activation)+'\\n')\n",
    "    f.write(getsource(inspect_perceptron.predict)+'\\n')\n",
    "    f.write(getsource(inspect_perceptron.fit)+'\\n')\n",
    "f.close()"
   ]
  },
  {
   "cell_type": "code",
   "execution_count": null,
   "id": "233b9ad0",
   "metadata": {},
   "outputs": [],
   "source": [
    "inspect_adaline = Adaline()\n",
    "with open(\"Adaline.py\", \"w\") as f:\n",
    "    f.write('import numpy as np\\n')\n",
    "    f.write('from sklearn.metrics import accuracy_score\\n')\n",
    "    f.write('class Adaline:\\n')\n",
    "    f.write(getsource(inspect_adaline.__init__)+'\\n')\n",
    "    f.write(getsource(inspect_adaline.weighting)+'\\n')\n",
    "    f.write(getsource(inspect_adaline.activation)+'\\n')\n",
    "    f.write(getsource(inspect_adaline.predict)+'\\n')\n",
    "    f.write(getsource(inspect_adaline.fit)+'\\n')\n",
    "f.close()"
   ]
  },
  {
   "cell_type": "markdown",
   "id": "40754109",
   "metadata": {},
   "source": [
    "<p dir=rtl style=\"direction: rtl; text-align: justify; line-height:200%; font-family:vazir; font-size:medium\">\n",
    "<font face=\"vazir\" size=3>\n",
    "    برای ساخته‌شدن فایل <code>result.zip</code> سلول زیر را اجرا کنید. توجه داشته باشید که پیش از اجرای سلول زیر تغییرات اعمال شده در نت‌بوک را ذخیره کرده باشید (<code>ctrl+s</code>) تا در صورت نیاز به پشتیبانی امکان بررسی کد شما وجود داشته باشد.\n",
    "</font>\n",
    "</p>"
   ]
  },
  {
   "cell_type": "code",
   "execution_count": null,
   "id": "2c3bcd76",
   "metadata": {},
   "outputs": [],
   "source": [
    "import zipfile\n",
    "import joblib\n",
    "\n",
    "def compress(file_names):\n",
    "    print(\"File Paths:\")\n",
    "    print(file_names)\n",
    "    compression = zipfile.ZIP_DEFLATED\n",
    "    with zipfile.ZipFile(\"result.zip\", mode=\"w\") as zf:\n",
    "        for file_name in file_names:\n",
    "            zf.write('./' + file_name, file_name, compress_type=compression)\n",
    "\n",
    "file_names = ['df1.csv', 'df2.csv', 'df3.csv', 'perceptron.ipynb', 'Perceptron.py', 'Adaline.py', 'linearly_separable.json']\n",
    "compress(file_names)"
   ]
  }
 ],
 "metadata": {
  "kernelspec": {
   "display_name": "Python 3 (ipykernel)",
   "language": "python",
   "name": "python3"
  },
  "language_info": {
   "codemirror_mode": {
    "name": "ipython",
    "version": 3
   },
   "file_extension": ".py",
   "mimetype": "text/x-python",
   "name": "python",
   "nbconvert_exporter": "python",
   "pygments_lexer": "ipython3",
   "version": "3.9.2"
  },
  "vscode": {
   "interpreter": {
    "hash": "ad2bdc8ecc057115af97d19610ffacc2b4e99fae6737bb82f5d7fb13d2f2c186"
   }
  }
 },
 "nbformat": 4,
 "nbformat_minor": 5
}
